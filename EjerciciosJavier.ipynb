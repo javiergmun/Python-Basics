{
 "cells": [
  {
   "cell_type": "markdown",
   "metadata": {},
   "source": [
    "# Primeros programas"
   ]
  },
  {
   "cell_type": "markdown",
   "metadata": {},
   "source": [
    "Crea un programa que solicite tu nombre y te de la bienvenida al curso de sistemas de gestión empresarial con una frase tipo “Hola NOMBRE! Bienvenido al curso de SGE 21/22”."
   ]
  },
  {
   "cell_type": "code",
   "execution_count": 35,
   "metadata": {},
   "outputs": [
    {
     "name": "stdout",
     "output_type": "stream",
     "text": [
      "Hola JAVIER!, bienvenido al curso de SGE 21/22.\n"
     ]
    }
   ],
   "source": [
    "name = input(\"¿Cómo te llamas?\")\n",
    "print (f\"Hola {name.upper()}!, bienvenido al curso de SGE 21/22.\")\n"
   ]
  },
  {
   "cell_type": "markdown",
   "metadata": {},
   "source": [
    "Haz un programa que adivine la talla de pie y la edad del usuario que lo ejecute.\n",
    "\n",
    " Se basa en un sencillo truco matemático. El programa debe pedir al usuario que realice las siguientes operaciones (las operaciones la tiene que realizar el de cabeza, no el programa):\n",
    "\n",
    "    Pensar, escribir o apuntar su talla de zapato.\n",
    "    Multiplicar ese número por 5.\n",
    "    Sumarle 50.\n",
    "    Multiplicarlo por 20.\n",
    "    Sumarle 1022.\n",
    "    Restarle el año de nacimiento."
   ]
  },
  {
   "cell_type": "code",
   "execution_count": 36,
   "metadata": {},
   "outputs": [
    {
     "name": "stdout",
     "output_type": "stream",
     "text": [
      "Hola, escribe tu talla de zapato.\n",
      "Realiza estas operaciones.\n",
      "1- Multiplicalo por 50.\n",
      "2- Sumale 50.\n",
      "3- Multiplicalo por 20.\n",
      "4- Sumale 1022.\n",
      "5- Réstale tu año de nacimiento. \n",
      "Te edad es 21\n",
      "Tu número de pie es 41\n"
     ]
    }
   ],
   "source": [
    "\n",
    "print(\"\"\"Hola, escribe tu talla de zapato.\n",
    "Realiza estas operaciones.\n",
    "1- Multiplicalo por 50.\n",
    "2- Sumale 50.\n",
    "3- Multiplicalo por 20.\n",
    "4- Sumale 1022.\n",
    "5- Réstale tu año de nacimiento. \"\"\")\n",
    "resultado = input(\"¿Qué número has obtenido?\")\n",
    "# Toma los dos ultimos valores del resultado str o [2:]\n",
    "print(\"Te edad es \" + resultado[:-2])\n",
    "# Toma los dos primeros valores del resultado str o [-2:]\n",
    "print(\"Tu número de pie es \"+ resultado[2:])"
   ]
  },
  {
   "cell_type": "markdown",
   "metadata": {},
   "source": [
    "# Control de Flujo"
   ]
  },
  {
   "cell_type": "markdown",
   "metadata": {},
   "source": [
    "Programa que dibuje con asteriscos un triángulo rectángulo isósceles de N asteriscos de alto. \n",
    "\n",
    "    Opcional: pintar triangulo rectángulo escaleno.\n",
    "    "
   ]
  },
  {
   "cell_type": "code",
   "execution_count": 37,
   "metadata": {},
   "outputs": [
    {
     "name": "stdout",
     "output_type": "stream",
     "text": [
      "Triangulo isosceles de altura: 5\n",
      " * \n",
      " *  * \n",
      " *  *  * \n",
      " *  *  *  * \n",
      " *  *  *  *  * \n",
      " *  *  *  * \n",
      " *  *  * \n",
      " *  * \n",
      " * \n",
      "Triangulo rectángulo escaleno: \n",
      "(Solo pintado, si contamos * es isosceles)\n",
      "*\n",
      "**\n",
      "***\n",
      "****\n",
      "*****\n"
     ]
    }
   ],
   "source": [
    "altura = int(input(\"Altura del triángulo: \"))\n",
    "print(f\"Triangulo isosceles de altura: {altura}\")\n",
    "\n",
    "#Primera mitad (creciente) del triangulo. En este se llega a la altura\n",
    "for i in range(1, altura + 1):\n",
    "    for j in range(i):\n",
    "        #con end vacio(opcional) saltamos de linea\n",
    "        print(\" * \", end=\"\")\n",
    "    print()\n",
    "\n",
    "#Primera mitad (decreciente) del triangulo. Este tiene altura-1\n",
    "for i in range(1, altura):\n",
    "    for j in range(altura - i):\n",
    "        #con end vacio(opcional) saltamos de linea\n",
    "        print(\" * \", end=\"\")\n",
    "    print()\n",
    "\n",
    "print(f\"Triangulo rectángulo escaleno: \")\n",
    "print(f\"(Solo pintado, si contamos * es isosceles)\")\n",
    "\n",
    "for i in range(1,int(altura)+1):\n",
    "    print(\"*\"*i)\n"
   ]
  },
  {
   "cell_type": "markdown",
   "metadata": {},
   "source": [
    "Programa que adivine el numero en el que está pensando (entre 0 y 100) el usuario por tanteo (preguntando sucesivamente si es mayor o menor que un número aleatorio de partida)\n"
   ]
  },
  {
   "cell_type": "code",
   "execution_count": 38,
   "metadata": {},
   "outputs": [
    {
     "name": "stdout",
     "output_type": "stream",
     "text": [
      "¡Hola, piensa un numero del 1 al 100!\n",
      "39\n",
      "Es 39 tu numero?\n",
      "Entonces... es mayor que 39?\n",
      "44\n",
      "Es 44 tu numero?\n",
      "Tu numero es 44\n"
     ]
    }
   ],
   "source": [
    "import random\n",
    "\n",
    "acierto = False\n",
    "cotaInferior = 0\n",
    "cotaSuperior = 100\n",
    "\n",
    "print(\"¡Hola, piensa un numero del 1 al 100!\")\n",
    "#Hasta que acierte\n",
    "while acierto==False:\n",
    "    #Genero numero random\n",
    "    num_random = random.randint(cotaInferior,cotaSuperior)\n",
    "    print(num_random)\n",
    "    #Pregunto\n",
    "    print(f\"Es {num_random} tu numero?\")\n",
    "    respuesta = input(str)\n",
    "    #Si contesto si: (acierto es true y salgo del bucle)\n",
    "    if respuesta==\"si\":\n",
    "        acierto=True\n",
    "    #Si contesto no: (veo si es mayor o menor para ir acotando)\n",
    "    else:\n",
    "        print(f\"Entonces... es mayor que {num_random}?\")\n",
    "        mayor = input(str)\n",
    "        #Si es mayor, acoto mi cota inferior al numero dado +1 (para ir creciendo x abajo)\n",
    "        if mayor==\"si\":\n",
    "            cotaInferioe=num_random+1\n",
    "        #Si es menor, acoto mi cota superior al numero dado -1 (para ir decreciendo x arriba)\n",
    "        if mayor==\"no\":\n",
    "            cotaSuperior=num_random-1\n",
    "\n",
    "#Cuando aciertes te lo dice\n",
    "print(f\"Tu numero es {num_random}\")"
   ]
  },
  {
   "cell_type": "markdown",
   "metadata": {},
   "source": [
    "Usar un for para imprimir por pantalla todos los múltiplos de 7 menores de 100."
   ]
  },
  {
   "cell_type": "code",
   "execution_count": 39,
   "metadata": {},
   "outputs": [
    {
     "name": "stdout",
     "output_type": "stream",
     "text": [
      "0\n",
      "7\n",
      "14\n",
      "21\n",
      "28\n",
      "35\n",
      "42\n",
      "49\n",
      "56\n",
      "63\n",
      "70\n",
      "77\n",
      "84\n",
      "91\n",
      "98\n"
     ]
    }
   ],
   "source": [
    "for i in range(0,100,7):\n",
    "    print(i)"
   ]
  },
  {
   "cell_type": "markdown",
   "metadata": {},
   "source": [
    "# Trabajo con cadenas de caracteres"
   ]
  },
  {
   "cell_type": "markdown",
   "metadata": {},
   "source": [
    "Solicitar una oración por teclado y realizar las siguientes operaciones sobre ella:\n",
    "\n",
    "    Mostrar longitud de la cadena.\n",
    "    Mostrar espacios en blanco se ingresaron.\n",
    "    Mostrar toda la oración en letras mayúsculas.\n",
    "    Duplicar el contenido de la cadena.\n",
    "    Dividir la cadena en una lista de palabras y recorrerla mostrándola y numerando cada palabra."
   ]
  },
  {
   "cell_type": "code",
   "execution_count": 40,
   "metadata": {},
   "outputs": [
    {
     "name": "stdout",
     "output_type": "stream",
     "text": [
      "Tenemos cosas que decir...\n",
      "----------------------------------------------------------------\n",
      "Longitud de frase: 2\n",
      "Numero de espacios: 0\n",
      "Mayusculas: NO\n",
      "----------------------------------------------------------------\n",
      "Mostrar dos veces: nono\n",
      "----------------------------------------------------------------\n",
      "\n",
      "1- no\n"
     ]
    }
   ],
   "source": [
    "frase=str(input(\"Escribe una frase para finalizar el ejercicio\"))\n",
    "print(f\"\"\"Tenemos cosas que decir...\n",
    "----------------------------------------------------------------\n",
    "Longitud de frase: {len(frase)}\n",
    "Numero de espacios: {frase.count(\" \")}\n",
    "Mayusculas: {frase.upper()}\n",
    "----------------------------------------------------------------\n",
    "Mostrar dos veces: {frase*2 }\n",
    "----------------------------------------------------------------\n",
    "\"\"\")\n",
    "aux=1\n",
    "separacion= frase.split(\" \")\n",
    "for i in separacion:\n",
    "    print(f\"{aux}- {i}\")\n",
    "    aux+=1"
   ]
  },
  {
   "cell_type": "markdown",
   "metadata": {},
   "source": [
    "# Colecciones"
   ]
  },
  {
   "cell_type": "markdown",
   "metadata": {},
   "source": [
    "Definir una lista por asignación con 5 enteros. Mostrar por pantalla solo los elementos con valor iguales o superiores a 7.\n"
   ]
  },
  {
   "cell_type": "code",
   "execution_count": 42,
   "metadata": {},
   "outputs": [
    {
     "name": "stdout",
     "output_type": "stream",
     "text": [
      "¡COMPLETADO!\n",
      "Listado: [5, 6, 8, 2, 1]\n",
      "Mayores que 7: \n",
      "8\n"
     ]
    }
   ],
   "source": [
    "listado=[]\n",
    "for i in range(5):\n",
    "    numero_a_listar=int(input(f\"Dame un numero - {i}/5 introducidos\"))\n",
    "    listado.append(numero_a_listar)\n",
    "\n",
    "print(f\"\"\"¡COMPLETADO!\n",
    "Listado: {listado}\"\"\")\n",
    "print(\"Mayores que 7: \")\n",
    "for i in listado:\n",
    "    if(i>=7):\n",
    "        print(i)"
   ]
  },
  {
   "cell_type": "markdown",
   "metadata": {},
   "source": [
    "Crear un programa que almacene nombres de personas, tras introducir un nombre nuevo mostrará un conteo de los nombres que tienen 5 o más caracteres y preguntará si desea introducir un nuevo nombre o salir del programa.\n",
    "\n",
    "     Opcional: Cargar palabras a partir de un archivo txt.\n"
   ]
  },
  {
   "cell_type": "code",
   "execution_count": null,
   "metadata": {},
   "outputs": [
    {
     "name": "stdout",
     "output_type": "stream",
     "text": [
      "GUARDA NOMBRES HASTA QUE PONGAS 'exit'\n",
      "['Javier']\n",
      "['Javier', 'Lamberto']\n",
      "['Javier', 'Lamberto', 'Manuel']\n",
      "Has terminado, tu lista es: ['Javier', 'Lamberto', 'Manuel']\n",
      "Nombres con más de 5 o mas letras\n",
      "Javier\n",
      "Lamberto\n",
      "Manuel\n"
     ]
    }
   ],
   "source": [
    "print(\"GUARDA NOMBRES HASTA QUE PONGAS 'exit'\")\n",
    "listado=[]\n",
    "seguir=True\n",
    "while(seguir):\n",
    "    nombre=str(input(\"Introduzca el siguiente nombre\"))\n",
    "    if(nombre!=\"exit\"):\n",
    "        listado.append(nombre)\n",
    "        print(listado)\n",
    "        seguir=True\n",
    "    else:\n",
    "        seguir=False\n",
    "        print(f\"Has terminado, tu lista es: {listado}\")\n",
    "        print(f\"Nombres con más de 5 o mas letras\")\n",
    "        for j in listado:\n",
    "            if(j!=j[0:4]):\n",
    "                print(j)\n",
    "\n"
   ]
  },
  {
   "cell_type": "markdown",
   "metadata": {},
   "source": [
    "Crear un programa que almacene con dos opciones:\n",
    "1. Agregar personas: permite introducir nombres de personas de forma interactiva,\n",
    "2. Sorteo: devuelve el nombre de una persona al azar.\n",
    "    \n",
    "        Opcional: Cargar nombre a partir de un archivo csv.\n"
   ]
  },
  {
   "cell_type": "code",
   "execution_count": null,
   "metadata": {},
   "outputs": [
    {
     "name": "stdout",
     "output_type": "stream",
     "text": [
      "Seleccione una opcion marcando el numero que acompaña\n",
      "        1- Agregar participante\n",
      "        2- Sortear \n",
      "Manuel añadido, ya sois 1\n",
      "Javier añadido, ya sois 2\n",
      "Raquel añadido, ya sois 3\n",
      "Laura añadido, ya sois 4\n",
      "Pepe añadido, ya sois 5\n",
      "Realizando sorteo entre: 5 participantes, que son: ['Manuel', 'Javier', 'Raquel', 'Laura', 'Pepe']\n",
      "GANADOR: Pepe\n"
     ]
    }
   ],
   "source": [
    "import random\n",
    "print(\"\"\"Seleccione una opcion marcando el numero que acompaña\n",
    "        1- Agregar participante\n",
    "        2- Sortear \"\"\")\n",
    "listado=[]\n",
    "continuar=True\n",
    "while(continuar):\n",
    "    respuesta=str(input(\"Opcion\"))\n",
    "    if(respuesta==\"1\"):\n",
    "        añadir_nombre=str(input(\"Añade el nuevo nombre\"))\n",
    "        listado.append(añadir_nombre)\n",
    "        print(f\"{añadir_nombre} añadido, ya sois {len(listado)}\")\n",
    "    if(respuesta==\"2\"):\n",
    "        print(f\"Realizando sorteo entre: {len(listado)} participantes, que son: {listado}\")\n",
    "        ganador= random.randint(0,len(listado)-1)\n",
    "        print(f\"GANADOR: {listado[ganador]}\")\n",
    "        continuar=False\n",
    "\n",
    "\n",
    "\n"
   ]
  },
  {
   "cell_type": "markdown",
   "metadata": {},
   "source": [
    "Crear un programa “Diccionario” que permita consultar definiciones, agregar nuevas palabras con su definición o eliminar palabras. \n",
    "\n",
    "    Opcional: Cargar diccionario a partir de un archivo csv.\n"
   ]
  },
  {
   "cell_type": "code",
   "execution_count": null,
   "metadata": {},
   "outputs": [
    {
     "name": "stdout",
     "output_type": "stream",
     "text": [
      "Diccionario en ingles, podras consultar, añadir palabras y su definicion o eliminar palabras\n",
      "{'lunes': 'monday', 'martes': 'tuesday', 'miercoles': 'wednesday', 'jueves': 'thursday', 'viernes': 'friday'}\n",
      "Palabra guardada\n",
      "Significado guardado\n",
      "{'lunes': 'monday', 'martes': 'tuesday', 'miercoles': 'wednesday', 'jueves': 'thursday', 'viernes': 'friday', 'palabra': 'hellow'}\n"
     ]
    },
    {
     "ename": "RuntimeError",
     "evalue": "dictionary changed size during iteration",
     "output_type": "error",
     "traceback": [
      "\u001b[1;31m---------------------------------------------------------------------------\u001b[0m",
      "\u001b[1;31mRuntimeError\u001b[0m                              Traceback (most recent call last)",
      "\u001b[1;32mc:\\Users\\jgmun\\Desktop\\python\\EjerciciosPythonJ\\Ejercicios Iniciacion\\EjerciciosJavier.ipynb Cell 24'\u001b[0m in \u001b[0;36m<module>\u001b[1;34m\u001b[0m\n\u001b[0;32m      <a href='vscode-notebook-cell:/c%3A/Users/jgmun/Desktop/python/EjerciciosPythonJ/Ejercicios%20Iniciacion/EjerciciosJavier.ipynb#ch0000023?line=0'>1</a>\u001b[0m \u001b[39mprint\u001b[39m(\u001b[39m\"\u001b[39m\u001b[39mDiccionario en ingles, podras consultar, añadir palabras y su definicion o eliminar palabras\u001b[39m\u001b[39m\"\u001b[39m)\n\u001b[0;32m      <a href='vscode-notebook-cell:/c%3A/Users/jgmun/Desktop/python/EjerciciosPythonJ/Ejercicios%20Iniciacion/EjerciciosJavier.ipynb#ch0000023?line=1'>2</a>\u001b[0m diccionario \u001b[39m=\u001b[39m {\u001b[39m\"\u001b[39m\u001b[39mlunes\u001b[39m\u001b[39m\"\u001b[39m:\u001b[39m\"\u001b[39m\u001b[39mmonday\u001b[39m\u001b[39m\"\u001b[39m, \u001b[39m\"\u001b[39m\u001b[39mmartes\u001b[39m\u001b[39m\"\u001b[39m:\u001b[39m\"\u001b[39m\u001b[39mtuesday\u001b[39m\u001b[39m\"\u001b[39m, \u001b[39m\"\u001b[39m\u001b[39mmiercoles\u001b[39m\u001b[39m\"\u001b[39m:\u001b[39m\"\u001b[39m\u001b[39mwednesday\u001b[39m\u001b[39m\"\u001b[39m, \u001b[39m\"\u001b[39m\u001b[39mjueves\u001b[39m\u001b[39m\"\u001b[39m:\u001b[39m\"\u001b[39m\u001b[39mthursday\u001b[39m\u001b[39m\"\u001b[39m,\u001b[39m\"\u001b[39m\u001b[39mviernes\u001b[39m\u001b[39m\"\u001b[39m:\u001b[39m\"\u001b[39m\u001b[39mfriday\u001b[39m\u001b[39m\"\u001b[39m}\n\u001b[1;32m----> <a href='vscode-notebook-cell:/c%3A/Users/jgmun/Desktop/python/EjerciciosPythonJ/Ejercicios%20Iniciacion/EjerciciosJavier.ipynb#ch0000023?line=4'>5</a>\u001b[0m \u001b[39mfor\u001b[39;00m palabra \u001b[39min\u001b[39;00m diccionario:\n\u001b[0;32m      <a href='vscode-notebook-cell:/c%3A/Users/jgmun/Desktop/python/EjerciciosPythonJ/Ejercicios%20Iniciacion/EjerciciosJavier.ipynb#ch0000023?line=5'>6</a>\u001b[0m     elegir\u001b[39m=\u001b[39m\u001b[39mint\u001b[39m(\u001b[39minput\u001b[39m(\u001b[39m\"\u001b[39m\u001b[39mElige una opcion para realizar 1- Consultar 2- Agregar palabra 3- Eliminar palabra\u001b[39m\u001b[39m\"\u001b[39m))\n\u001b[0;32m      <a href='vscode-notebook-cell:/c%3A/Users/jgmun/Desktop/python/EjerciciosPythonJ/Ejercicios%20Iniciacion/EjerciciosJavier.ipynb#ch0000023?line=7'>8</a>\u001b[0m     \u001b[39mif\u001b[39;00m(elegir\u001b[39m==\u001b[39m\u001b[39m1\u001b[39m) :\n",
      "\u001b[1;31mRuntimeError\u001b[0m: dictionary changed size during iteration"
     ]
    }
   ],
   "source": [
    "print(\"Diccionario en ingles, podras consultar, añadir palabras y su definicion o eliminar palabras\")\n",
    "diccionario = {\"lunes\":\"monday\", \"martes\":\"tuesday\", \"miercoles\":\"wednesday\", \"jueves\":\"thursday\",\"viernes\":\"friday\"}\n",
    "\n",
    "\n",
    "for palabra in diccionario:\n",
    "    elegir=int(input(\"Elige una opcion para realizar 1- Consultar 2- Agregar palabra 3- Eliminar palabra\"))\n",
    "\n",
    "    if(elegir==1) :\n",
    "        print(diccionario)\n",
    "\n",
    "    if(elegir==2) :\n",
    "        palabra=input(\"Indica la palabra\")\n",
    "        print(\"Palabra guardada\")\n",
    "        definicion=input(\"Indica su significado\")\n",
    "        print(\"Significado guardado\")\n",
    "        diccionario.update(palabra=definicion)\n",
    "        print(diccionario)\n",
    "\n",
    "    if(elegir==3):\n",
    "        diccionario.pop(input(\"Indica lo que vas a sacar\"))"
   ]
  },
  {
   "cell_type": "markdown",
   "metadata": {},
   "source": [
    "Ingresar por teclado los nombres de 5 personas y almacenarlos en una lista.\n",
    "\n",
    "Crear una nueva lista con los nombres ordenados alfabéticamente e imprimirla por pantalla.\n",
    "    \n",
    "    Opcional: Crea una función que ordene os nombres por su longitud para pasársela como parámetro al método Short."
   ]
  },
  {
   "cell_type": "code",
   "execution_count": null,
   "metadata": {},
   "outputs": [
    {
     "name": "stdout",
     "output_type": "stream",
     "text": [
      "Inserta cinco nombres\n",
      "['alejandro', 'basco', 'carlos', 'javier', 'manuel']\n"
     ]
    }
   ],
   "source": [
    "print(\"Inserta cinco nombres\")\n",
    "listado=[]\n",
    "\n",
    "for i in range(0,5,1):\n",
    "    nombre= str(input())\n",
    "    listado.append(nombre)\n",
    "    listado.sort()\n",
    "\n",
    "print(listado)"
   ]
  },
  {
   "cell_type": "markdown",
   "metadata": {},
   "source": [
    "Crear una lista con contenido [[50,34,70,20], [5,70,30,25], [10,5], [75,43,56,32,89], [[54,72]].\n",
    "\n",
    " Imprimir la lista, asignar valor cero a todos los elementos mayores a 50 y volver a imprimir la lista."
   ]
  },
  {
   "cell_type": "code",
   "execution_count": null,
   "metadata": {},
   "outputs": [
    {
     "name": "stdout",
     "output_type": "stream",
     "text": [
      "La lista inicial: [[50, 34, 70, 20], [5, 70, 30, 25], [10, 5], [75, 43, 56, 32, 89], [54, 72]]\n",
      "Analizando el fragmento... [50, 34, 70, 20]\n",
      "Analizando el numero... 50\n",
      "ALERTA! MAYOR QUE 50\n",
      "Analizando el numero... 34\n",
      "Analizando el numero... 70\n",
      "ALERTA! MAYOR QUE 50\n",
      "Analizando el numero... 20\n",
      "Analizando el fragmento... [5, 70, 30, 25]\n",
      "Analizando el numero... 5\n",
      "Analizando el numero... 70\n",
      "ALERTA! MAYOR QUE 50\n",
      "Analizando el numero... 30\n",
      "Analizando el numero... 25\n",
      "Analizando el fragmento... [10, 5]\n",
      "Analizando el numero... 10\n",
      "Analizando el numero... 5\n",
      "Analizando el fragmento... [75, 43, 56, 32, 89]\n",
      "Analizando el numero... 75\n",
      "ALERTA! MAYOR QUE 50\n",
      "Analizando el numero... 43\n",
      "Analizando el numero... 56\n",
      "ALERTA! MAYOR QUE 50\n",
      "Analizando el numero... 32\n",
      "Analizando el numero... 89\n",
      "ALERTA! MAYOR QUE 50\n",
      "Analizando el fragmento... [54, 72]\n",
      "Analizando el numero... 54\n",
      "ALERTA! MAYOR QUE 50\n",
      "Analizando el numero... 72\n",
      "ALERTA! MAYOR QUE 50\n",
      "Lista final: [[0, 34, 0, 20], [5, 0, 30, 25], [10, 5], [0, 43, 0, 32, 0], [0, 0]]\n"
     ]
    }
   ],
   "source": [
    "\n",
    "listado=[[50,34,70,20], [5,70,30,25], [10,5], [75,43,56,32,89], [54,72]]\n",
    "print(f\"La lista inicial: {listado}\")\n",
    "for listado_0 in listado:\n",
    "    print(f\"Analizando el fragmento... {listado_0}\")\n",
    "    for numeros in listado_0:\n",
    "        print(f\"Analizando el numero... {numeros}\")\n",
    "        if numeros>=50:\n",
    "            print(\"ALERTA! MAYOR QUE 50\")\n",
    "            listado_0[listado_0.index(numeros)]=0\n",
    "\n",
    "print(f\"Lista final: {listado}\")"
   ]
  },
  {
   "cell_type": "markdown",
   "metadata": {},
   "source": [
    "# Funciones"
   ]
  },
  {
   "cell_type": "markdown",
   "metadata": {},
   "source": [
    "Confeccionar un programa que calcule el factorial de un número introducido por teclado"
   ]
  },
  {
   "cell_type": "code",
   "execution_count": null,
   "metadata": {},
   "outputs": [
    {
     "name": "stdout",
     "output_type": "stream",
     "text": [
      "Calculando el factorial de: 5\n"
     ]
    },
    {
     "data": {
      "text/plain": [
       "120"
      ]
     },
     "execution_count": 16,
     "metadata": {},
     "output_type": "execute_result"
    }
   ],
   "source": [
    "from math import factorial as f\n",
    "n_factorial= int(input(\"Introduce un numero\"))\n",
    "\n",
    "\n",
    "def calcular_factorial(numero):\n",
    "    print(f\"Calculando el factorial de: {numero}\")\n",
    "    return f(numero)\n",
    "\n",
    "calcular_factorial(n_factorial)"
   ]
  },
  {
   "cell_type": "markdown",
   "metadata": {},
   "source": [
    "Escribe una función que tome una palabra y retorne con todas las letras en minúscula menos la primera y la última.\n"
   ]
  },
  {
   "cell_type": "code",
   "execution_count": null,
   "metadata": {},
   "outputs": [
    {
     "name": "stdout",
     "output_type": "stream",
     "text": [
      "La palabra es: esternocleidomastoideo\n",
      "EsternocleidomastoideO\n"
     ]
    }
   ],
   "source": [
    "palabra=input(str(\"Introduce una palabra\"))\n",
    "\n",
    "def funcion_modificar(strInput):\n",
    "    print(f\"La palabra es: {strInput}\")\n",
    "    modificacion= strInput[0].upper()+strInput[1:-1].lower()+strInput[-1].upper()\n",
    "    print(modificacion)\n",
    "\n",
    "    \n",
    "\n",
    "funcion_modificar(palabra)"
   ]
  },
  {
   "cell_type": "markdown",
   "metadata": {},
   "source": [
    "Reescribe el ejercicio 3 del apartado “Colecciones” utilizando una función para presentar el menú y recibir la opción seleccionada."
   ]
  },
  {
   "cell_type": "code",
   "execution_count": null,
   "metadata": {},
   "outputs": [
    {
     "name": "stdout",
     "output_type": "stream",
     "text": [
      "Seleccione una opcion marcando el numero que acompaña\n",
      "        1- Agregar participante\n",
      "        2- Sortear \n"
     ]
    }
   ],
   "source": [
    "import random\n",
    "print(\"\"\"Seleccione una opcion marcando el numero que acompaña\n",
    "        1- Agregar participante\n",
    "        2- Sortear \"\"\")\n",
    "listado=[]\n",
    "respuesta=str(input(\"Opcion\"))\n",
    "def menu(respuesta):\n",
    "    if(respuesta==\"1\"):\n",
    "        añadir_nombre=str(input(\"Añade el nuevo nombre\"))\n",
    "        listado.append(añadir_nombre)\n",
    "        print(f\"{añadir_nombre} añadido, ya sois {len(listado)}\")\n",
    "    if(respuesta==\"2\"):\n",
    "        print(f\"Realizando sorteo entre: {len(listado)} participantes, que son: {listado}\")\n",
    "        ganador= random.randint(0,len(listado)-1)\n",
    "        print(f\"GANADOR: {listado[ganador]}\")"
   ]
  },
  {
   "cell_type": "markdown",
   "metadata": {},
   "source": [
    "# Objetos"
   ]
  },
  {
   "cell_type": "markdown",
   "metadata": {},
   "source": [
    "Crea una clase “Saludo” que tenga los métodos: formal, informal y aleatorio.\n",
    "\n",
    "Los métodos pueden aceptar un parámetro (nombre de la persona a saludar) o ninguno (saludo genérico), el método aleatorio imprimirá un saludo aleatorio de una lista de saludos almacenados en la clase.\n"
   ]
  },
  {
   "cell_type": "code",
   "execution_count": null,
   "metadata": {},
   "outputs": [
    {
     "name": "stdout",
     "output_type": "stream",
     "text": [
      "Bienvenido, encantado de conocerle señor\n",
      "Hey que pasa colega\n",
      "Hola amigo\n"
     ]
    }
   ],
   "source": [
    "import random\n",
    "\n",
    "class Saludos:\n",
    "    \n",
    "    \n",
    "    def saludo1(self):\n",
    "        print(\"Bienvenido, encantado de conocerle señor\")\n",
    "\n",
    "    def saludo2(self):\n",
    "        print(\"Hey que pasa colega\")\n",
    "\n",
    "    def saludo3(self):\n",
    "        saludos=[\"Hola amigo\",\"Hola cariño\",\"Que pasa tronco\",\"Hola caracola\"]\n",
    "        eleccion= random.randint(0,len(saludos))\n",
    "        print(saludos[eleccion])\n",
    "\n",
    "class Main:\n",
    "    saludos = Saludos()\n",
    "\n",
    "    saludos.saludo1()\n",
    "    saludos.saludo2()\n",
    "    saludos.saludo3()"
   ]
  }
 ],
 "metadata": {
  "interpreter": {
   "hash": "e5a6201a4da71d1999253b48ff383a788de6d6cf16feac6ce48db78b24fed60d"
  },
  "kernelspec": {
   "display_name": "Python 3.10.2 64-bit",
   "language": "python",
   "name": "python3"
  },
  "language_info": {
   "codemirror_mode": {
    "name": "ipython",
    "version": 3
   },
   "file_extension": ".py",
   "mimetype": "text/x-python",
   "name": "python",
   "nbconvert_exporter": "python",
   "pygments_lexer": "ipython3",
   "version": "3.10.2"
  },
  "orig_nbformat": 4
 },
 "nbformat": 4,
 "nbformat_minor": 2
}
